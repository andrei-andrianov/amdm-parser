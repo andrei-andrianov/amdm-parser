{
 "cells": [
  {
   "cell_type": "markdown",
   "metadata": {},
   "source": [
    "# AmDm Parser\n",
    "\n",
    "Parsing chords and text for the specified song from the site AmDm.ru and save resulting text to file.\n",
    "\n",
    "Enjoy 🙂"
   ]
  },
  {
   "cell_type": "code",
   "execution_count": null,
   "metadata": {},
   "outputs": [],
   "source": [
    "%pprint"
   ]
  },
  {
   "cell_type": "code",
   "execution_count": 1,
   "metadata": {},
   "outputs": [],
   "source": [
    "from bs4 import BeautifulSoup\n",
    "import requests"
   ]
  },
  {
   "cell_type": "code",
   "execution_count": 2,
   "metadata": {},
   "outputs": [],
   "source": [
    "# url of the web page to parse chords\n",
    "link = 'https://amdm.ru/akkordi/akvariym/1497/garson_2/'"
   ]
  },
  {
   "cell_type": "code",
   "execution_count": 3,
   "metadata": {},
   "outputs": [
    {
     "name": "stdout",
     "output_type": "stream",
     "text": [
      "Response status code: 200\n"
     ]
    }
   ],
   "source": [
    "response = requests.get(link)\n",
    "print('Response status code:', response.status_code)"
   ]
  },
  {
   "cell_type": "code",
   "execution_count": 4,
   "metadata": {},
   "outputs": [],
   "source": [
    "soup = BeautifulSoup(response.text, 'lxml')"
   ]
  },
  {
   "cell_type": "code",
   "execution_count": 5,
   "metadata": {},
   "outputs": [],
   "source": [
    "artist = soup.find('span', itemprop='byArtist').get_text()\n",
    "song = soup.find('span', itemprop='name').get_text()\n",
    "comment = soup.find('pre', class_='b-podbor__comment').get_text()\n",
    "text = soup.find('pre', itemprop='chordsBlock').get_text()"
   ]
  },
  {
   "cell_type": "code",
   "execution_count": 6,
   "metadata": {},
   "outputs": [],
   "source": [
    "filename = artist + ' - ' + song + '.txt'\n",
    "text = artist + ' - ' + song + '\\n\\n' + text + '\\n\\nComment:\\n' + comment + '\\n\\nLink: ' + link\n",
    "with open(filename, 'w', encoding='utf8') as f:\n",
    "    print(text, file=f)"
   ]
  },
  {
   "cell_type": "code",
   "execution_count": 7,
   "metadata": {},
   "outputs": [
    {
     "name": "stdout",
     "output_type": "stream",
     "text": [
      "Аквариум - Гарсон №2\n",
      "\n",
      "Intro: C Am F G C G }x2\n",
      "\n",
      "               C                Am \n",
      "Гарсон номер два, гарсон номер два,\n",
      "             F  G            C    \n",
      "На наших ветвях пожухла листва\n",
      "G             C             Am\n",
      "И, может, права людская молва,\n",
      "             Dm     G           C G\n",
      "И все только сон, гарсон номер два.\n",
      "\n",
      "               C                Am \n",
      "Вот стол, где я пил, вот виски со льдом\n",
      "             F  G            C    \n",
      "Напиток стал быль, стол сдали в музей\n",
      "G             C             Am\n",
      "А вот за стеклом мумии всех моих близких друзей\n",
      "             Dm     G           C G\n",
      "А я только встал на пять минут купить сигарет\n",
      "\n",
      "               C                Am \n",
      "Я вышел пройтись в Латинский квартал\n",
      "             F  G            C    \n",
      "Свернул с Camden Lock на Невский с Тверской\n",
      "G             C             Am\n",
      "Я вышел духовный а вернулся мирской\n",
      "             Dm     G           C G\n",
      "Но мог бы пропасть - ан нет не пропал\n",
      "\n",
      "               C                Am \n",
      "Так гарсон номер два, гарсон номер два\n",
      "             F  G            C    \n",
      "То разум горит, а то брызжет едва\n",
      "G             C             Am\n",
      "Но мысль мертва, радость моя, а жизнь жива\n",
      "             Dm     G        C G\n",
      "А все это сон, гарсон номер два\n",
      "\n",
      "               C                Am \n",
      "А колокольный звон течет как елей\n",
      "             F  G            C    \n",
      "Ох, моя душа, встань помолись, ну что ж ты спешишь\n",
      "G             C             Am\n",
      "А здесь тишина, иконы Битлов, ладан, гашиш\n",
      "             Dm     G           C G\n",
      "А мне все равно лишь бы тебе было светлей\n",
      "\n",
      "               C                Am \n",
      "Так гарсон номер два, гарсон номер два\n",
      "             F  G            C    \n",
      "На кладбище тишь, на наших гробах цветы да трава\n",
      "G             C            Am\n",
      "И похоже права людская молва\n",
      "             Dm     G           C G\n",
      "И все только сон, гарсон номер два\n",
      "F                              G                    C      \n",
      "А раз это сон - ну что ж ты стоишь, гарсон номер два\n",
      "\n",
      "Comment:\n",
      "Песню играется с каподастром на 2-м (или на 3-м, кому как :) ) ладу, \n",
      "но можно попробовать и без оного.\n",
      "\n",
      "Link: https://amdm.ru/akkordi/akvariym/1497/garson_2/\n"
     ]
    }
   ],
   "source": [
    "print(text)"
   ]
  }
 ],
 "metadata": {
  "kernelspec": {
   "display_name": "Python 3",
   "language": "python",
   "name": "python3"
  },
  "language_info": {
   "codemirror_mode": {
    "name": "ipython",
    "version": 3
   },
   "file_extension": ".py",
   "mimetype": "text/x-python",
   "name": "python",
   "nbconvert_exporter": "python",
   "pygments_lexer": "ipython3",
   "version": "3.7.2"
  }
 },
 "nbformat": 4,
 "nbformat_minor": 2
}
