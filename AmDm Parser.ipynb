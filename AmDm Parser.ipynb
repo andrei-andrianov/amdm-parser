{
 "cells": [
  {
   "cell_type": "markdown",
   "metadata": {},
   "source": [
    "# AmDm Parser\n",
    "\n",
    "Parsing chords and text for the specified song from the site AmDm.ru and save resulting text to file.\n",
    "\n",
    "Enjoy 🙂"
   ]
  },
  {
   "cell_type": "code",
   "execution_count": null,
   "metadata": {},
   "outputs": [],
   "source": [
    "# toggle pretty print function ON to beautify the output\n",
    "%pprint"
   ]
  },
  {
   "cell_type": "code",
   "execution_count": 1,
   "metadata": {},
   "outputs": [],
   "source": [
    "from bs4 import BeautifulSoup\n",
    "import requests"
   ]
  },
  {
   "cell_type": "code",
   "execution_count": 2,
   "metadata": {},
   "outputs": [],
   "source": [
    "# url of the web page to parse chords\n",
    "link = 'https://amdm.ru/akkordi/akvariym/4163/zheleznodorozhnaya_voda/'"
   ]
  },
  {
   "cell_type": "code",
   "execution_count": 3,
   "metadata": {},
   "outputs": [
    {
     "name": "stdout",
     "output_type": "stream",
     "text": [
      "Response status code: 200\n"
     ]
    }
   ],
   "source": [
    "response = requests.get(link)\n",
    "print('Response status code:', response.status_code)"
   ]
  },
  {
   "cell_type": "code",
   "execution_count": 4,
   "metadata": {},
   "outputs": [],
   "source": [
    "soup = BeautifulSoup(response.text, 'lxml')"
   ]
  },
  {
   "cell_type": "code",
   "execution_count": 6,
   "metadata": {},
   "outputs": [
    {
     "name": "stdout",
     "output_type": "stream",
     "text": [
      "Comment section was not available for this song.\n"
     ]
    }
   ],
   "source": [
    "artist = soup.find('span', itemprop='byArtist').get_text()\n",
    "song = soup.find('span', itemprop='name').get_text()\n",
    "text = soup.find('pre', itemprop='chordsBlock').get_text()\n",
    "\n",
    "try:\n",
    "    comment = soup.find('pre', class_='b-podbor__comment').get_text()\n",
    "except AttributeError as error:\n",
    "    print('Comment section was not available for this song.')\n",
    "    comment = ''"
   ]
  },
  {
   "cell_type": "code",
   "execution_count": 7,
   "metadata": {},
   "outputs": [],
   "source": [
    "filename = artist + ' - ' + song + '.txt'\n",
    "text = artist + ' - ' + song + '\\n\\n' + text + '\\n\\nComment:\\n' + comment + '\\n\\nLink: ' + link\n",
    "with open(filename, 'w', encoding='utf8') as f:\n",
    "    print(text, file=f)"
   ]
  },
  {
   "cell_type": "code",
   "execution_count": 8,
   "metadata": {},
   "outputs": [
    {
     "name": "stdout",
     "output_type": "stream",
     "text": [
      "Аквариум - Железнодорожная вода\n",
      "\n",
      "D                  G      A7       D\n",
      "Дай мне напиться железнодорожной воды.\n",
      "D                  G      A7       D\n",
      "Дай мне напиться железнодорожной воды.\n",
      "      Bm                    F#m\n",
      "Мне нравится лето тем, что летом тепло.\n",
      "   G        G/F#          Em\n",
      "Зима мне мила тем, что замерзло стекло,\n",
      "         A7        G  A7               D\n",
      "Меня не видно в окно, и снег замел следы.\n",
      "\n",
      "D                  G      A7       D\n",
      "Когда я был младше, я ставил весь мир по местам.\n",
      "D                  G      A7       D\n",
      "Когда я был младше, я ставил весь мир по местам.\n",
      "      Bm                    F#m\n",
      "Теперь я пью свой wine, я ем свой cheese,\n",
      "   G        G/F#          Em\n",
      "Я качусь по наклонной - не знаю, вверх или вниз.\n",
      "         A7        G  A7               D\n",
      "Я стою на холме - не знаю, здесь или там.\n",
      "\n",
      "D                  G      A7       D\n",
      "Мы были знакомы, я слышал, что это факт.\n",
      "D                  G      A7       D\n",
      "Мы были знакомы, я слышал, что это факт.\n",
      "      Bm                    F#m\n",
      "Но сегодня твой мозг жужжит, как фреза.\n",
      "   G        G/F#          Em\n",
      "Здесь слишком светло, и ты не видишь глаза,\n",
      "         A7        G  A7           D\n",
      "Но вот я пою, попадешь ли ты в такт?\n",
      "\n",
      "D                  G      A7       D\n",
      "И есть те, кто верит, и те, кто смотрит из лож.\n",
      "D                  G      A7       D\n",
      "И даже я порою уверен, что вижу, где ложь.\n",
      "      Bm                    F#m\n",
      "Но, когда ты проснешься, скрой свой испуг.\n",
      "   G        G/F#          Em\n",
      "Это был не призрак, это был только звук,\n",
      "         A7        G  A7               D\n",
      "Это тронулся поезд, на который ты не попадешь.\n",
      "\n",
      "D                  G      A7       D\n",
      "Так дай мне напиться железнодорожной воды.\n",
      "D                  G      A7       D\n",
      "Дай мне напиться железнодорожной воды.\n",
      "      Bm                    F#m\n",
      "Я пишу эти песни в конце декабря,\n",
      "   G        G/F#          Em\n",
      "Голый, в снегу, при свете полной луны.\n",
      "         A7        G  A7               D\n",
      "Но если ты меня слышишь, наверное это не зря.\n",
      "\n",
      "Comment:\n",
      "\n",
      "\n",
      "Link: https://amdm.ru/akkordi/akvariym/4163/zheleznodorozhnaya_voda/\n"
     ]
    }
   ],
   "source": [
    "print(text)"
   ]
  }
 ],
 "metadata": {
  "kernelspec": {
   "display_name": "Python 3",
   "language": "python",
   "name": "python3"
  },
  "language_info": {
   "codemirror_mode": {
    "name": "ipython",
    "version": 3
   },
   "file_extension": ".py",
   "mimetype": "text/x-python",
   "name": "python",
   "nbconvert_exporter": "python",
   "pygments_lexer": "ipython3",
   "version": "3.7.2"
  }
 },
 "nbformat": 4,
 "nbformat_minor": 2
}
